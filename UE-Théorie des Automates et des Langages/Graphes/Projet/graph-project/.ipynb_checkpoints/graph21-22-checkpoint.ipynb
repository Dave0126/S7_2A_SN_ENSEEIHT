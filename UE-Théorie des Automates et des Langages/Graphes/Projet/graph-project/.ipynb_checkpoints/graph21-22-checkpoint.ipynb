{
 "cells": [
  {
   "cell_type": "markdown",
   "metadata": {},
   "source": [
    "<center><h1>Graph project: Epidemic spreading</h1></center>\n",
    "\n",
    "<center><h4>ENSEEIHT SN</h4></center>"
   ]
  },
  {
   "cell_type": "markdown",
   "metadata": {},
   "source": [
    "<div style=\"width:75%;margin:0 auto;\">\n",
    "    \n",
    "## Introduction\n",
    "<a id='intro'></a>\n",
    "    \n",
    "<p style=\"text-align:justify;\"> As you know, a new epidemic has overwhelmed the world, COVID-19 jeopardizes people and changes our habits. It is easy to realise that knowing how illnesses spread is vital to our own protection. How can we predict whether a disease will cause an epidemic, how many people it will infect, which people it will infect, and whether or not it is dangerous to society as a whole ? Also, how can we determine which techniques to use in fighting an epidemic once it begins ? One way to answer all of these questions is through <strong>mathematical modeling</strong>. </p>\n",
    "\n",
    "<p style=\"text-align:justify;\"> In this work you will have to review different epidemic modelings relying all on the representation by graphs of a human network called a <strong>contact network</strong>. A vertex in a contact network represents an individual and an edge between two vertices represents a contact between two individuals. The disease only spread from individual to individual if they are in contact, so through the edges. This representation is actually really common in research, and a lot of state-of-the-art modeling are built over it. From these different models you will be asked to draw conclusions from experiments on varying contact networks</p>\n",
    "\n",
    "<p style=\"text-align:justify;\"> For readability and ease of use, this project will be carried on a Jupyter Notebook, hence code and question answering have to be written in this unique file. This is a <strong>DUO</strong> project, no group of one person will be accepted, the duo has to be composed of same TD group students, if the number of students in the TD group is odd we will accept one group composed of three students. It will be coded in Julia using the LightGraphs package. <strong>BEWARE:</strong> \n",
    "    \n",
    "- If the code does not provide good results, its readability as well as its comments are essential for the corrector to potentially find some notation points.\n",
    "- The specifications of the functions have to be strictly respected.\n",
    "- Do not neglect written questions they stand for an important part of the notation, you are not only evaluated on the coding. Also, even so a written question may not ask you directly to code or provide results from code, support your arguments when possible with a runable example is very welcome and sometimes even expected.\n",
    "- Any initiatives and additional efforts bringing contents and thoughts out of the question scope may result in bonus points if pertinent.\n",
    "</p> \n",
    "    \n",
    "<p style=\"text-align:justify;\"> Deliverable: You will deliver your work on moodle before <strong style=\"font-size:1.3em\">23.01.2022</strong> in a <strong style=\"font-size:1.3em\">.tar</strong> containing the notebook with your codes and your written answers, and the different graph figures in .png you will generate. The corrector will use the student N7 computers for running your code, so take care of verifying that your work is running as expected on these computers !</p>\n",
    "\n",
    "LightGraphs documentation: https://juliagraphs.org/LightGraphs.jl/v1.2/index.html\n",
    "    \n",
    "<!---\n",
    "http://makie.juliaplots.org/stable/basic-tutorial.html#Adding-plots-to-a-Scene\n",
    "TODO: afficher l'historique gplot des graphes durant la simu pour voir visuellement ce que ça donne. Peut etre necessiter de locker l'affichage graphique.\n",
    "afficher pour tau fixer sur different graphe de degré le nombre max d'infecté durant la simu.\n",
    "    \n",
    "Faire coder le modèle SAIS et SIR\n",
    "\n",
    "    Pour SIR faire la courbe dans un des sites dans les favoris\n",
    "    \n",
    "    Expliquer en quoi la distance et Jordan ne sont pas tout le temps optimal. Expliquer pourquoi le DMP peut présenter de meilleur résultat.\n",
    "\n",
    "Demander d'imaginer d'autres modèle inspirer de maladie\n",
    "--->"
   ]
  },
  {
   "cell_type": "markdown",
   "metadata": {},
   "source": [
    "<div style=\"width:75%;margin:0 auto;\">\n",
    "\n",
    "## Environment and packages installation\n",
    "<a id='env'></a>\n",
    "    \n",
    "\n",
    "<p style=\"text-align:justify;\"> <strong>IMPORTANT</strong>: For evaluation, coding questions have to run with no additional packages ! Only the ones present here ! However if you want to use another package to go further in your answer and add bonus contents, take care of separating the cells and precising which packages you are using.</p>"
   ]
  },
  {
   "cell_type": "code",
   "execution_count": null,
   "metadata": {},
   "outputs": [],
   "source": [
    "# TO RUN ONCE\n",
    "using Pkg\n",
    "Pkg.activate(\".\") # Path to Manifest.toml and Project.toml\n",
    "Pkg.resolve()"
   ]
  },
  {
   "cell_type": "code",
   "execution_count": null,
   "metadata": {
    "scrolled": true
   },
   "outputs": [],
   "source": [
    "# Import packages\n",
    "using Pkg\n",
    "Pkg.activate(\".\") # Path to Manifest.toml and Project.toml\n",
    "using LightGraphs\n",
    "using GraphPlot\n",
    "using Colors\n",
    "using CairoMakie\n",
    "using StatsBase\n",
    "using Plots\n",
    "using JLD2\n",
    "using Compose"
   ]
  },
  {
   "cell_type": "markdown",
   "metadata": {},
   "source": [
    "<div style=\"width:75%;margin:0 auto;\">\n",
    "\n",
    "## Part 1 - SIS model\n",
    "<a id='part1'></a>\n",
    "\n",
    "<p style=\"text-align:justify;\">SIS is a compartmental model, ie a model where the population is divided into subgroups that represent the disease status of its members. SIS stands for Susceptible $\\rightarrow$ Infected $\\rightarrow$ Susceptible where the susceptible group contains those who remain susceptible to the infection, and the infected group consists of those who not only have the disease but are also in the contagious period of the disease.</p>\n",
    "    \n",
    "<p style=\"text-align:justify;\"> Combine with a contact network approach, this model can capture contact patterns (family, company, friends). Each vertex represents an individual in the host population, and contacts between two individuals are represented by an edge that connects the two. The probability of transmitting the disease from an infected to a susceptible individual along one of these edges or contacts is $\\beta$ (=<strong>infection rate</strong>). The probability to cure is $\\alpha$ (= <strong>curing rate</strong>). </p>\n",
    "\n",
    "    \n",
    "<p style=\"text-align:justify;\">In order for a disease to begin spreading through a network, the disease must be introduced into the population, either through infecting a proportion of the population or through infecting one individual. As time moves forward, the disease will spread away from those initially infected, and two things may occur simultaneously at each time step $t$. First, each infected individual will spread disease to each of its contacts with a probability $\\beta$. Secondly, each infectious individual will recover at a rate, $\\alpha$ , at which point the individual will then no longer infect any of its contacts. After the disease has run its course, we can determine how the disease affected the network by calculating various quantities that help us better understand the outbreak.\n",
    "</p>\n",
    "\n",
    "<br>\n",
    "    \n",
    "<p style=\"font-size:0.9em\">P. Van Mieghem, J. Omic, R. E. Kooij, <em>“Virus Spread in Networks”</em>,\n",
    "IEEE/ACM Transaction on Networking (2009)<p>\n",
    "\n",
    "\n",
    "<!---\n",
    "<div style=\"background-color:rgba(0, 0, 0, 0.0470588); padding:10px 0;font-family:monospace;\">\n",
    "<font size = 4.5px><b>Algorithm 1:</b> Girvan Newman</font><br>\n",
    "    <div style=\"margin-left:50px;border-left:2px solid black;padding-left:10px;\">\n",
    "    <b> WHILE </b> there are still edges<b> OR </b> desired nb of communities unreached <b>DO</b>\n",
    "        <div style=\"margin-left:50px;border-left:2px solid black;padding-left:10px;\">\n",
    "        Calculate betweeness of all edges <br>\n",
    "        Remove the edge with the highest betweeness <br>\n",
    "        Calculate the number of strongly connected components\n",
    "        </div>\n",
    "    <b> END WHILE </b>   \n",
    "    </div>\n",
    "</div>\n",
    "--->"
   ]
  },
  {
   "cell_type": "markdown",
   "metadata": {},
   "source": [
    "<div style=\"width:75%;margin:0 auto;\">\n",
    "\n",
    "### 1.1 Contact networks sample"
   ]
  },
  {
   "cell_type": "code",
   "execution_count": null,
   "metadata": {},
   "outputs": [],
   "source": [
    "\"\"\"karat7: A graph representing the karate club of N7 and the connections between the persons in this club.\n",
    "There are 34 people in this network. It is actually inspired by one of the most famous problem in graph\n",
    "theory: the Zachary's karate club.\n",
    "\"\"\"\n",
    "karat7 = smallgraph(:karate)\n",
    "nodecolor = [colorant\"lightseagreen\"]\n",
    "draw(PNG(\"karat7.png\", 100cm, 100cm), gplot(karat7,nodefillc=nodecolor))"
   ]
  },
  {
   "cell_type": "code",
   "execution_count": null,
   "metadata": {},
   "outputs": [],
   "source": [
    "\"\"\"n7_2A: A graph representing the second year students at N7. Each department (SN, MF2E, 3EA) form a \n",
    "community where connections are denser, connections between department are rarer.\n",
    "\"\"\"\n",
    "c=[[10,0,0] [0.1,10,0] [0.1,0.1,10]]\n",
    "n=[100,70,50]\n",
    "n7_2A = stochastic_block_model(c,n)\n",
    "nodecolor = [colorant\"lightseagreen\"]\n",
    "draw(PNG(\"n7_2A.png\", 100cm, 100cm), gplot(n7_2A,nodefillc=nodecolor))"
   ]
  },
  {
   "cell_type": "code",
   "execution_count": null,
   "metadata": {},
   "outputs": [],
   "source": [
    "\"\"\"toulouse_neigh: A graph representing a neighborhood composed of 1000 people in Toulouse.\n",
    "\"\"\"\n",
    "toulouse_neigh = barabasi_albert(1000, 1)\n",
    "nodecolor = [colorant\"lightseagreen\"]\n",
    "draw(PNG(\"toulouse_neigh.png\", 100cm, 100cm), gplot(toulouse_neigh,nodefillc=nodecolor))"
   ]
  },
  {
   "cell_type": "markdown",
   "metadata": {},
   "source": [
    "<div style=\"width:75%;margin:0 auto;\">\n",
    "  \n",
    "### 1.2 Introduce the infection\n",
    "    \n",
    "<p style=\"text-align:justify;\">We denote by <code>state</code> a vector containing the disease status of each vertex where Susceptible=0 and Infected=1. Then <code>state</code> is an <code>Array{Int32,1}</code> of length the number of vertices. This array in addition of a graph (represented internally by an adjacency matrix or an adjacency list) will be the data structure of our model.</p>\n",
    "    \n",
    "<span style=\"font-size:0.9em\">In <code>Array{Int32,1}</code>, <code>Int32</code> refers to the kind of data in the array, here 32 bits integers, <code>1</code> refers to the dimension of the array, here we have a 1-dimensional structure so a vector.</span>"
   ]
  },
  {
   "cell_type": "markdown",
   "metadata": {},
   "source": [
    "<div style=\"width:75%;margin:0 auto;\">\n",
    "\n",
    "<strong style=\"color:cornflowerblue\">Question 1 (code):</strong> For each graph in the graph sample (<code>karat7</code>, <code>n7_2A</code>, <code>toulouse_neigh</code>) initialize the state array by assigning each vertex to susceptible and add randomly one or numerous infected people. Save the graph as a .png image using <code>gplot</code> and <code>draw</code>, infected should appear in a different color (<code>colorant\"orange\"</code>).\n",
    "    \n",
    "Due to a bug on certain version of Jupyter Notebook, the graph <span style=\"font-size:1.3em\">figures should be saved in a file and not plot inside the notebook </span> !!!\n",
    "    \n",
    "Gplot GitHub: https://github.com/JuliaGraphs/GraphPlot.jl\n",
    "    \n",
    "Gplot examples: https://juliagraphs.org/GraphPlot.jl/"
   ]
  },
  {
   "cell_type": "code",
   "execution_count": null,
   "metadata": {},
   "outputs": [],
   "source": [
    "# Infect Karat7"
   ]
  },
  {
   "cell_type": "code",
   "execution_count": null,
   "metadata": {},
   "outputs": [],
   "source": [
    "# Infect N7_2A"
   ]
  },
  {
   "cell_type": "code",
   "execution_count": null,
   "metadata": {},
   "outputs": [],
   "source": [
    "# Infect Toulouse_neigh"
   ]
  },
  {
   "cell_type": "markdown",
   "metadata": {},
   "source": [
    "<div style=\"width:75%;margin:0 auto;\">\n",
    "\n",
    "<strong style=\"color:cadetblue\">Question 2 (written):</strong> What do you think/predict about the influence of the initial number of infected people and their locations on the evolution of an SIS model epidemic ?\n",
    "\n",
    "<br>\n",
    "    \n",
    "<div style=\"background-color:#E7F1D1\"><strong>Answer:</strong></div>"
   ]
  },
  {
   "cell_type": "markdown",
   "metadata": {},
   "source": [
    "<div style=\"width:75%;margin:0 auto;\">\n",
    "  \n",
    "### 1.3 Spread the infection"
   ]
  },
  {
   "cell_type": "markdown",
   "metadata": {},
   "source": [
    "<div style=\"width:75%;margin:0 auto;\">\n",
    "      \n",
    "<strong style=\"color:cornflowerblue\">Question 3 (code):</strong> Implement the <code>function SIS</code> (respect the header and the specifications). You can use <code>rand</code> to translate the probabilities. Test your algorithm on <code>karat7</code>, <code>n7_2A</code>, and <code>toulouse_neigh</code> with arbitrary $\\beta$, $\\alpha$, and $t$.\n",
    "    \n",
    "<span style=\"font-size:0.9em\">The corrector should be able to write <code>new_state = SIS(net,state,beta,alpha,t)</code> with your code.</span>"
   ]
  },
  {
   "cell_type": "code",
   "execution_count": null,
   "metadata": {},
   "outputs": [],
   "source": [
    "function SIS(net,state,beta,alpha,t)\n",
    "    \"\"\"Take a contact network at a certain state and apply t time steps\n",
    "    of an SIS model.\n",
    "    \n",
    "    PARAMS\n",
    "       net (LightGraph): graph representing the contact network\n",
    "       state (Array{Int32,1}): disease status of each vertex\n",
    "       beta (Float64): infection rate\n",
    "       alpha (Float64): curing rate\n",
    "       t (Int32): number of time step\n",
    "    \n",
    "    RETURNS\n",
    "        (Array{Int32,1}): The new state of the contact network after t time steps.\n",
    "    \"\"\"     \n",
    "    # TODO\n",
    "end"
   ]
  },
  {
   "cell_type": "code",
   "execution_count": null,
   "metadata": {},
   "outputs": [],
   "source": [
    "# Test on Karat7"
   ]
  },
  {
   "cell_type": "code",
   "execution_count": null,
   "metadata": {},
   "outputs": [],
   "source": [
    "# Test on N7_2A"
   ]
  },
  {
   "cell_type": "code",
   "execution_count": null,
   "metadata": {},
   "outputs": [],
   "source": [
    "# Test on Toulouse_neigh"
   ]
  },
  {
   "cell_type": "markdown",
   "metadata": {},
   "source": [
    "<div style=\"width:75%;margin:0 auto;\">\n",
    "\n",
    "### 1.4 Simulate and understand the epidemic\n",
    "    \n",
    "<p style=\"text-align:justify;\">In the SIS model of this project, every disease is characterized by:\n",
    "    \n",
    "* The infection rate $\\beta$ representing the chance of infection when being in contact with an infected individual.\n",
    "* The curing rate $\\alpha$ representing the chance of being cured of the disease.\n",
    "* The effective spreading rate $\\tau=\\frac{\\beta}{\\alpha}$ representing the capacity of the disease to spread. More the disease infect easily ($\\beta$ high) and less it is cured easily ($\\alpha$ low) more $\\tau$ can be high.\n",
    "\n",
    "We are now willing to understand what are the influences of these parameters as well as the contact network shape on an epidemic.</p>"
   ]
  },
  {
   "cell_type": "markdown",
   "metadata": {},
   "source": [
    "<div style=\"width:75%;margin:0 auto;\">\n",
    "\n",
    "<strong style=\"color:cadetblue\">Question 4 (written):</strong> The <code>function SIS</code> you implemented launches one run of an SIS model on a given contact network. As it makes use of randomness, one run of spreading is stochastic. Then what simple method can you propose to provide a prediction of the disease spreading on a given contact network ?\n",
    "   \n",
    "<br>\n",
    "    \n",
    "<div style=\"background-color:#E7F1D1\"> <Strong>Answer:</Strong></div>"
   ]
  },
  {
   "cell_type": "markdown",
   "metadata": {},
   "source": [
    "<div style=\"width:75%;margin:0 auto;\">\n",
    "    \n",
    "<strong style=\"color:cornflowerblue\">Question 5 (code):</strong> Implement the <code>function Simulation_SIS</code> (respect the header and the specifications).\n",
    "    \n",
    "<span style=\"font-size:0.9em\">The corrector should be able to write <code>predictions, taus = Simulation_SIS(net,nbinf,betas,alphas,t,nbsimu)</code> with your code.</span>"
   ]
  },
  {
   "cell_type": "code",
   "execution_count": null,
   "metadata": {},
   "outputs": [],
   "source": [
    "function Simulation_SIS(net,nbinf,betas,alphas,t,nbsimu)\n",
    "    \"\"\"Take a contact network, different diseases (defined by \n",
    "    different parameters alpha and beta), a number of initial\n",
    "    infected people and process nbsimu simulations of SIS over\n",
    "    t time steps. You will provide the prediction of the \n",
    "    percentage of infected at each time t as well as the \n",
    "    spreading rate of each disease.\n",
    "    \n",
    "    PARAMS\n",
    "       net (LightGraph): graph representing the contact network\n",
    "       nbinf (Int32): number of infected at the start of each \n",
    "            simulation\n",
    "       betas (Array{Float64,1}): array of infection rate on edges\n",
    "       alphas (Array{Float64,1}): array of curing rate on vertices\n",
    "       t (Int32): number of time step\n",
    "       nbsimu (Int32): number of simulations\n",
    "    \n",
    "    RETURNS\n",
    "        (Array{Float64,2}): the prediction of the percentage of \n",
    "            infected at each time step and for each disease. The \n",
    "            first dimension contains the time steps and the second\n",
    "            contains the diseases\n",
    "        (Array{Float64,1}): effective spreading rate for each \n",
    "            disease\n",
    "    \"\"\"\n",
    "    # TODO\n",
    "end"
   ]
  },
  {
   "cell_type": "markdown",
   "metadata": {},
   "source": [
    "<div style=\"width:75%;margin:0 auto;\">\n",
    "\n",
    "<strong style=\"color:cadetblue\">Question 6 (written)</strong>: Run the 2 scripts below and describe what you see. Conclude on the influence of $\\tau$, $\\beta$, and $\\alpha$ on an epidemic we can model with SIS.\n",
    "    \n",
    "<br>\n",
    "    \n",
    "<div style=\"background-color:#E7F1D1\"> <strong>Answer:</strong></div>"
   ]
  },
  {
   "cell_type": "code",
   "execution_count": null,
   "metadata": {},
   "outputs": [],
   "source": [
    "# Script launching predictions on different diseases on karat7 and printing \n",
    "# the precentage of infected at each time step.\n",
    "betas=[0.05,0.1,0.01,0.4,0.04,0.05,0.005]\n",
    "alphas=[0.05,0.1,0.01,0.1,0.01,0.1,0.01]\n",
    "\n",
    "predictions, taus = Simulation_SIS(karat7,2,betas,alphas,1000,1000)\n",
    "\n",
    "Plots.plot(predictions, label=taus',xlabel=\"Time\",ylabel=\"% of infected\")"
   ]
  },
  {
   "cell_type": "code",
   "execution_count": null,
   "metadata": {},
   "outputs": [],
   "source": [
    "# Same as before but applied on toulouse_neigh. May be a bit long to run.\n",
    "betas = [0.05,0.1,0.15,0.25,0.35,0.45,0.55,0.65,0.75,0.85,0.95]\n",
    "alphas = [0.2,0.2,0.2,0.2,0.2,0.2,0.2,0.2,0.2,0.2,0.2]\n",
    "\n",
    "predictions, taus = Simulation_SIS(toulouse_neigh,100,betas,alphas,1000,100)\n",
    "\n",
    "Plots.plot(predictions, label=taus',xlabel=\"Time\",ylabel=\"% of infected\")"
   ]
  },
  {
   "cell_type": "markdown",
   "metadata": {},
   "source": [
    "<div style=\"width:75%;margin:0 auto;\">\n",
    "\n",
    "<strong style=\"color:cadetblue\">Question 7 (written):</strong> Change the initial number of infected in the scripts above, is it in accordance with your answer in Question 2 ?\n",
    "    \n",
    "<br>\n",
    "    \n",
    "<div style=\"background-color:#E7F1D1\"> <strong>Answer:</strong></div>"
   ]
  },
  {
   "cell_type": "code",
   "execution_count": null,
   "metadata": {
    "scrolled": true
   },
   "outputs": [],
   "source": [
    "# Change the initial number of infected"
   ]
  },
  {
   "cell_type": "markdown",
   "metadata": {},
   "source": [
    "<div style=\"width:75%;margin:0 auto;\">\n",
    "\n",
    "<strong style=\"color:cornflowerblue\">Question 8 (code):</strong> Implement a script plotting the maximum percentage of infected people according to $\\tau$ over 300 time steps for 3 contact networks:\n",
    "\n",
    "* A regular graph of 200 vertices with degree 2.\n",
    "* A regular graph of 200 vertices with degree 5.\n",
    "* A regular graph of 200 vertices with degree 10.\n",
    "\n",
    "You can use the function <code>random_regular_graph(n,d)</code> of LighGraphs. As you probably need to use a certain number of different values of $\\tau$ to visualize something interesting (the more there are the more the figure will be smooth) you should fix $\\alpha$ and make $\\beta$ vary. \n",
    "\n",
    "<span style=\"font-size:0.9em\">A regular graph is a graph where each vertex has the same degree.</span>"
   ]
  },
  {
   "cell_type": "code",
   "execution_count": null,
   "metadata": {},
   "outputs": [],
   "source": [
    "# Plots of the maximum percentage of infected people according to tau over 300 time \n",
    "# steps for 3 contact networks."
   ]
  },
  {
   "cell_type": "markdown",
   "metadata": {},
   "source": [
    "<div style=\"width:75%;margin:0 auto;\">\n",
    "\n",
    "<strong style=\"color:cadetblue\">Question 9 (written):</strong> Describe the figure and draw conclusions on the epidemic behavior for different degrees $d$ on regular graphs. Thus, in addition of the inner properties of the disease ($\\alpha$, $\\beta$, $\\tau$) what other parameter is essential in the spreading ? Finally, what analogy can be done with real life from this experiment ?\n",
    "    \n",
    "<br>\n",
    "    \n",
    "<div style=\"background-color:#E7F1D1\"> <strong>Answer:</strong></div>"
   ]
  },
  {
   "cell_type": "markdown",
   "metadata": {},
   "source": [
    "<div style=\"width:75%;margin:0 auto;\">\n",
    "\n",
    "## Part 2 - SIR and SAIR model\n",
    "<a id='part2'></a>\n",
    "    \n",
    "<p style=\"text-align:justify;\">Unfortunately SIS model is valuable for diseases we can catch back since a cured person can get ill again. This is true for the flu, the cold, etc. However COVID-19 might create immunity for whom already got it and SIS can not take into account immune or dead persons. That is why we propose in this part to consider another model more adapted to COVID-19 called SIR. It stands for Susceptible $\\rightarrow$ Infected $\\rightarrow$ Recovered where the susceptible group contains those who remain susceptible to the infection, the infected group consists of those who not only have the disease but are also in the contagious period of the disease, and the recovered group contains those who were ill, got cured, are not contagious and can not get ill anymore.</p>\n",
    "\n",
    "<br>\n",
    "\n",
    "<p style=\"font-size:0.9em\">M. Youssef and C. Scoglio, <cite>\"An individual-based approach to SIR epidemics in contact networks\"</cite>, Journal of Theoretical Biology 283 (2011)</p>\n",
    "\n",
    "<br>\n",
    "    \n",
    "<p style=\"text-align:justify;\"> One limitation of SIR is that it does not model the reaction of humans when they feel the presence of the epidemic. Indeed, if feeling threaten or surrounded by infected, an individual may change its behaviors: wear mask, wash its hands, etc. This result in a smaller infection rate. That is why in this part we will also consider a variant of SIR called SAIR which stands for Susceptible $\\rightarrow$ Alert $\\rightarrow$ Infected $\\rightarrow$ Recovered. A susceptible individual becomes infected by the infection rate $\\beta_0$, an infected individual recovers and gets immune by the curing rate $\\alpha$, an individual can observe the states of its neighbors, then a susceptible individual might go to the alert state if surrounded by infected individuals with an alert rate $\\kappa$ on each contact with an infected, an alert inividual becomes infected by the infection rate $\\beta_1$ where $0<\\beta_1<\\beta_0$. In our simple SAIR model, an individual can not go back to a susceptible state when he got into the alert state.</p>\n",
    "    \n",
    "<br>\n",
    "    \n",
    "<p style=\"font-size:0.9em\"> F. Darabi Sahneh and C. Scoglio, <cite>\"Epidemic Spread in Human Networks\"</cite>, 50th IEEE Conf. Decision and Contol, Orlando, Florida (2011)</p>"
   ]
  },
  {
   "cell_type": "markdown",
   "metadata": {},
   "source": [
    "<div style=\"width:75%;margin:0 auto;\">\n",
    "\n",
    "### 2.1 SIR\n",
    "    \n",
    "<p style=\"text-align:justify;\">The vector containing the disease status <code>state</code> has to change a bit since we added a new state. Hence it will be an <code>Array{Int32,1}</code> where Susceptible=0, Infected=1, and Recovered=2.</p>"
   ]
  },
  {
   "cell_type": "markdown",
   "metadata": {},
   "source": [
    "<div style=\"width:75%;margin:0 auto;\">\n",
    "    \n",
    "<strong style=\"color:cornflowerblue\">Question 10 (code):</strong> Implement the <code>function SIR</code> (respect the header and the specifications). You can use <code>rand</code> to translate the probabilities. Test your algorithm on <code>karat7</code>, <code>n7_2A</code>, and <code>toulouse_neigh</code> with arbitrary $\\beta$, $\\alpha$, and $t$. Recovered vertices should appear in a different color (<code>colorant\"purple\"</code>).\n",
    "    \n",
    "<span style=\"font-size:0.9em\">The corrector should be able to write <code>new_state = SIR(net,state,beta,alpha,t)</code> with your code.</span>"
   ]
  },
  {
   "cell_type": "code",
   "execution_count": null,
   "metadata": {},
   "outputs": [],
   "source": [
    "function SIR(net,state,beta,alpha,t)\n",
    "    \"\"\"Take a contact network at a certain state and apply t time steps\n",
    "    of an SIR model.\n",
    "    \n",
    "    PARAMS\n",
    "       net (LightGraph): graph representing the contact network\n",
    "       state (Array{Int32,1}): disease status of each vertex\n",
    "       beta (Float64): infection rate\n",
    "       alpha (Float64): curing rate\n",
    "       t (Int32): number of time step\n",
    "    \n",
    "    RETURNS\n",
    "        (Array{Int32,1}): The new state of the contact network after t time steps.\n",
    "    \"\"\"\n",
    "    # TODO\n",
    "end"
   ]
  },
  {
   "cell_type": "code",
   "execution_count": null,
   "metadata": {},
   "outputs": [],
   "source": [
    "# Test on Karat7"
   ]
  },
  {
   "cell_type": "code",
   "execution_count": null,
   "metadata": {},
   "outputs": [],
   "source": [
    "# Test on N7_2A"
   ]
  },
  {
   "cell_type": "code",
   "execution_count": null,
   "metadata": {},
   "outputs": [],
   "source": [
    "# Test on Toulouse_neigh"
   ]
  },
  {
   "cell_type": "markdown",
   "metadata": {},
   "source": [
    "<div style=\"width:75%;margin:0 auto;\">\n",
    "    \n",
    "<strong style=\"color:cornflowerblue\">Question 11 (code):</strong> Implement the <code>function Simulation_SIR</code> (respect the header and the specifications).\n",
    "    \n",
    "<span style=\"font-size:0.9em\">The corrector should be able to write <code>predictions, taus = Simulation_SIR(net,nbinf,betas,alphas,t,nbsimu)</code> with your code.</span>"
   ]
  },
  {
   "cell_type": "code",
   "execution_count": null,
   "metadata": {},
   "outputs": [],
   "source": [
    "function Simulation_SIR(net,nbinf,betas,alphas,t,nbsimu)\n",
    "    \"\"\"Take a contact network, different diseases (defined by \n",
    "    different parameters alpha and beta), a number of initial\n",
    "    infected people and process nbsimu simulations of SIR over\n",
    "    t time steps. You will provide the prediction of the \n",
    "    percentage of infected at each time t as well as the \n",
    "    spreading rate of each disease.\n",
    "    \n",
    "    PARAMS\n",
    "       net (LightGraph): graph representing the contact network\n",
    "       nbinf (Int32): number of infected at the start of each \n",
    "            simulation\n",
    "       betas (Array{Float64,1}): array of infection rate on edges\n",
    "       alphas (Array{Float64,1}): array of curing rate on vertices\n",
    "       t (Int32): number of time step\n",
    "       nbsimu (Int32): number of simulations\n",
    "    \n",
    "    RETURNS\n",
    "        (Array{Float64,3}): the prediction of the percentage of \n",
    "            infected, the percentage of susceptible and the \n",
    "            percentage of recovered at each time step and for each \n",
    "            disease. The first dimension contains the time steps,\n",
    "            the second contains the diseases, and the third the status\n",
    "            (Infected: [:,:,1], Recovered: [:,:,2], Susceptible: [:,:,3])\n",
    "        (Array{Float64,1}): effective spreading rate for each \n",
    "            disease\n",
    "    \"\"\"\n",
    "    # TODO\n",
    "end"
   ]
  },
  {
   "cell_type": "markdown",
   "metadata": {},
   "source": [
    "<div style=\"width:75%;margin:0 auto;\">\n",
    "\n",
    "<strong style=\"color:cadetblue\">Question 12 (written):</strong> Run the script below and describe what you see. Why the infected curve does not behave the same as for SIS ? \n",
    "    \n",
    "<br>\n",
    "\n",
    "<div style=\"background-color:#E7F1D1\"> <strong>Answer:</strong></div>"
   ]
  },
  {
   "cell_type": "code",
   "execution_count": null,
   "metadata": {},
   "outputs": [],
   "source": [
    "# Script launching prediction on one disease on n7_2A and plotting the percentage\n",
    "# of infected, susceptible and recovered at each time step.\n",
    "predictions, taus = Simulation_SIR(n7_2A,2,[0.3],[0.2],50,1000)\n",
    "\n",
    "Plots.plot([predictions[:,:,1] predictions[:,:,2] predictions[:,:,3]],\n",
    "           label=[\"Infected\" \"Recovered\" \"Susceptible\"],xlabel=\"t\",ylabel=\"%\")"
   ]
  },
  {
   "cell_type": "markdown",
   "metadata": {},
   "source": [
    "<div style=\"width:75%;margin:0 auto;\">\n",
    "\n",
    "<strong style=\"color:cadetblue\">Question 13 (written):</strong> As for Question 6 script 2 plot the evolution of the percentage of infected for many $\\tau$. Describe what you see.\n",
    "    \n",
    "<br>\n",
    "    \n",
    "<div style=\"background-color:#E7F1D1\"> <strong>Answer:</strong></div>"
   ]
  },
  {
   "cell_type": "code",
   "execution_count": null,
   "metadata": {},
   "outputs": [],
   "source": [
    "# Equivalent experiment as for Question 6 script 2"
   ]
  },
  {
   "cell_type": "markdown",
   "metadata": {},
   "source": [
    "<div style=\"width:75%;margin:0 auto;\">\n",
    "\n",
    "<strong style=\"color:cornflowerblue\">Question 14 (code):</strong> Implement a script plotting the number of infected over 75 time steps for $\\beta=0.3$ and $\\alpha=0.2$ fixed and on 3 contact networks:\n",
    "    \n",
    "* A regular graph of 200 vertices with degree 2.\n",
    "* A regular graph of 200 vertices with degree 5.\n",
    "* A regular graph of 200 vertices with degree 10.\n",
    "    "
   ]
  },
  {
   "cell_type": "code",
   "execution_count": null,
   "metadata": {},
   "outputs": [],
   "source": [
    "# Plots of the number of infected people according to tau over 75 time \n",
    "# steps for 3 contact networks."
   ]
  },
  {
   "cell_type": "markdown",
   "metadata": {},
   "source": [
    "<div style=\"width:75%;margin:0 auto;\">\n",
    "\n",
    "<strong style=\"color:cadetblue\">Question 15 (written):</strong> From the previous figure, explain why lockdown can be interesting when hospital places are lacking ?\n",
    "\n",
    "<br>\n",
    "    \n",
    "<div style=\"background-color:#E7F1D1\"> <strong>Answer:</strong></div>"
   ]
  },
  {
   "cell_type": "markdown",
   "metadata": {},
   "source": [
    "<div style=\"width:75%;margin:0 auto;\">\n",
    "\n",
    "### 2.2 SAIR\n",
    "    \n",
    "<p style=\"text-align:justify;\">The vector containing the disease status <code>state</code> has to change a bit since we added a new state. Hence it will be an <code>Array{Int32,1}</code> where Susceptible=0, Infected=1, Recovered=2, and Alert=3.</p>"
   ]
  },
  {
   "cell_type": "markdown",
   "metadata": {},
   "source": [
    "<div style=\"width:75%;margin:0 auto;\">\n",
    "    \n",
    "<strong style=\"color:cornflowerblue\">Question 16 (code):</strong> Implement the <code>function SAIR</code> (respect the header and the specifications). You can use <code>rand</code> to translate the probabilities. Test your algorithm on <code>karat7</code>, <code>n7_2A</code>, and <code>toulouse_neigh</code> with arbitrary $\\beta$, $\\alpha$, and $t$. Alerted vertices should appear in a different color (<code>colorant\"lightgreen\"</code>).\n",
    "    \n",
    "<span style=\"font-size:0.9em\">The corrector should be able to write <code>new_state = SAIR(net,state,beta0,beta1,alpha,kappa,t)</code> with your code.</span>"
   ]
  },
  {
   "cell_type": "code",
   "execution_count": null,
   "metadata": {},
   "outputs": [],
   "source": [
    "function SAIR(net,state,beta0,beta1,alpha,kappa,t)\n",
    "    \"\"\"Take a contact network at a certain state and apply t time steps\n",
    "    of an SAIR model.\n",
    "    \n",
    "    PARAMS\n",
    "       net (LightGraph): graph representing the contact network\n",
    "       state (Array{Int32,1}): disease status of each vertex\n",
    "       beta0 (Float64): infection rate when not alert\n",
    "       beta1 (Float64): infection rate when alert\n",
    "       alpha (Float64): curing rate\n",
    "       kappa (Float64): alerting rate\n",
    "       t (Int32): number of time step\n",
    "    \n",
    "    RETURNS\n",
    "        (Array{Int32,1}): The new state of the contact network after t time steps.\n",
    "    \"\"\"      \n",
    "    # TODO\n",
    "end"
   ]
  },
  {
   "cell_type": "code",
   "execution_count": null,
   "metadata": {},
   "outputs": [],
   "source": [
    "# Test on Karat7"
   ]
  },
  {
   "cell_type": "code",
   "execution_count": null,
   "metadata": {},
   "outputs": [],
   "source": [
    "# Test on N7_2A"
   ]
  },
  {
   "cell_type": "code",
   "execution_count": null,
   "metadata": {},
   "outputs": [],
   "source": [
    "# Test on Toulouse_neigh"
   ]
  },
  {
   "cell_type": "markdown",
   "metadata": {},
   "source": [
    "<div style=\"width:75%;margin:0 auto;\">\n",
    "    \n",
    "<strong style=\"color:cornflowerblue\">Question 17 (code):</strong> Implement the <code>function Simulation_SAIR</code> (respect the header and the specifications).\n",
    "    \n",
    "<span style=\"font-size:0.9em\">The corrector should be able to write <code>predictions, taus = Simulation_SAIR(net,nbinf,betas0,betas1,alphas,kappas,t,nbsimu)</code> with your code.</span>"
   ]
  },
  {
   "cell_type": "code",
   "execution_count": null,
   "metadata": {},
   "outputs": [],
   "source": [
    "function Simulation_SAIR(net,nbinf,betas0,betas1,alphas,kappas,t,nbsimu)\n",
    "    \"\"\"Take a contact network, different diseases (defined by \n",
    "    different parameters alpha and beta), a number of initial\n",
    "    infected people and process nbsimu simulations of SAIR over\n",
    "    t time steps. You will provide the prediction of the \n",
    "    percentage of infected at each time t as well as the \n",
    "    spreading rate of each disease.\n",
    "    \n",
    "    PARAMS\n",
    "       net (LightGraph): graph representing the contact network\n",
    "       nbinf (Int32): number of infected at the start of each \n",
    "            simulation\n",
    "       betas0 (Array{Float64,1}): array of infection rate when not alert on edges\n",
    "       betas1 (Array{Float64,1}): array of infection rate when alert on edges\n",
    "       alphas (Array{Float64,1}): array of curing rate on vertices\n",
    "       kappas (Array{Float64,1}): array of alerting rate on edges\n",
    "       t (Int32): number of time step\n",
    "       nbsimu (Int32): number of simulations\n",
    "    \n",
    "    RETURNS\n",
    "        (Array{Float64,3}): the prediction of the percentage of \n",
    "            infected, the percentage of susceptible and the \n",
    "            percentage of recovered at each time step and for each \n",
    "            disease. The first dimension contains the time steps,\n",
    "            the second contains the diseases, and the third the status\n",
    "            (Infected: [:,:,1], Recovered: [:,:,2], Susceptible: [:,:,3])\n",
    "        (Array{Float64,1}): effective spreading rate for each \n",
    "            disease\n",
    "    \"\"\"\n",
    "    # TODO\n",
    "end"
   ]
  },
  {
   "cell_type": "markdown",
   "metadata": {},
   "source": [
    "<div style=\"width:75%;margin:0 auto;\">\n",
    "\n",
    "<strong style=\"color:cadetblue\">Question 18 (written):</strong> Run the script below comparing the number of infected of SAIR and SIR and comment what you see.\n",
    "    \n",
    "<br>\n",
    "    \n",
    "<div style=\"background-color:#E7F1D1\"> <strong>Answer:</strong></div>"
   ]
  },
  {
   "cell_type": "code",
   "execution_count": null,
   "metadata": {},
   "outputs": [],
   "source": [
    "# Script launching prediction on one disease on toulouse_neigh and plotting the percentage\n",
    "# of infected at each time step for SIR and SAIR.\n",
    "predictions1, taus1 = Simulation_SAIR(toulouse_neigh,2,[0.2],[0.1],[0.1],[0.4],100,1000)\n",
    "predictions2, taus2 = Simulation_SIR(toulouse_neigh,2,[0.2],[0.1],100,1000)\n",
    "\n",
    "Plots.plot([predictions1[:,:,1] predictions2[:,:,1]],\n",
    "           label=[\"SAIR\" \"SIR\"],xlabel=\"t\",ylabel=\"%\")"
   ]
  },
  {
   "cell_type": "markdown",
   "metadata": {},
   "source": [
    "<div style=\"width:75%;margin:0 auto;\">\n",
    "\n",
    "<strong style=\"color:cadetblue\">Question 19 (written):</strong> Of course the presented SIS, SIR, and SAIR models are limitated in their modelization of the reality. Formulate few of these limitations (at least 2). \n",
    "Propose few algorithm addons/ideas (at least 2) which would make the models more complex and more accurate in regards to the reality.\n",
    "    \n",
    "<br>\n",
    "    \n",
    "<div style=\"background-color:#E7F1D1\"> <strong>Answer:</strong></div>"
   ]
  },
  {
   "cell_type": "markdown",
   "metadata": {},
   "source": [
    "<div style=\"width:75%;margin:0 auto;\">\n",
    "\n",
    "## Part 3 - Discover patient zero\n",
    "    \n",
    "<p style=\"text-align:justify;\"> In the two previous parts you may have realised that understanding and controlling the spread of epidemics on contact networks is an important task. However, information about\n",
    "the origin of the epidemic could be also extremely useful to reduce or prevent future outbreaks. Thus, in this part we will focus on algorithm solutions to answer this issue.</p>\n",
    "    \n",
    "<p style=\"text-align:justify;\"> The stochastic nature of infection propagation makes the estimation of the epidemic origin intrinsically hard: indeed, different initial conditions can lead to the same configuration at the observation time. Methods such as the distance centrality or the Jordan center try to approximate it. They both rely on spatial information by stating that the first infected is probably at the center of the cluster of infection. Mathematically:\n",
    "    \n",
    "* The jordan center is expressed as $\\min_{v\\in \\mathcal{I}}\\max_{n\\in \\mathcal{I}}d(v,n)$ where $\\mathcal{I}$ is a connected component of the original contact network containing all infected and recovered vertices, and where $d(\\cdot,\\cdot)$ is the distance (= the shortest path) between 2 vertices (if not weighted graph each edge accounts for 1 unit). \n",
    "* The distance centrality is expressed as $\\min_{v\\in \\mathcal{I}}\\sum_{n\\in \\mathcal{I}}d(v,n)(\\delta_{n,I} + \\delta_{n,R}/\\alpha)$, where $\\delta_{n,I}=1$ if the vertex n is infected ($=0$ otherwise), and where $\\delta_{n,R}=1$ if the vertex n is recovered ($=0$ otherwise). You may note that in distance centrality we increase the weight of the recovered vertices by a factor $1/\\alpha$, it translates the fact that recovered vertices tend to be closer to the origin of the epidemic since they probably got ill before.\n",
    "    \n",
    "    \n",
    "We formulate the problem as follow: given a contact network and a snapshot of epidemic spread at a certain time, determine the infection source. A snapshot is a given <code>state</code> array for a contact network.</p>\n",
    "\n",
    "<br>\n",
    "    \n",
    "<p style=\"font-size:0.9em\"> A. Y. Lokhov, M. Mézard, H. Ohta, and L. Zdeborová, <cite>\"Inferring the origin of an epidemic with a dynamic message-passing algorithm\"</cite>, Physical Review (2014)</p>"
   ]
  },
  {
   "cell_type": "markdown",
   "metadata": {},
   "source": [
    "<div style=\"width:75%;margin:0 auto;\">\n",
    "    \n",
    "<strong style=\"color:cornflowerblue\">Question 20 (code):</strong> Implement the <code>function jordan</code> (respect the header and the specifications). You will need to use the function <code>dijkstra_shortest_paths</code> of the LighGraphs library, refer to the doc for more information. If there are multiple minimal vertices, then return the first one.\n",
    "    \n",
    "<span style=\"font-size:0.9em\">The corrector should be able to write <code>zero = jordan(g,state,alpha)</code> with your code.</span>"
   ]
  },
  {
   "cell_type": "code",
   "execution_count": null,
   "metadata": {},
   "outputs": [],
   "source": [
    "function jordan(g,state)\n",
    "    \"\"\"Find patient zero by mean of the jordan center method.\n",
    "    \n",
    "    PARAMS\n",
    "        g (LightGraph): graph representing the contact network\n",
    "        state (Array{Int32,1}): disease status of each vertex\n",
    "    \n",
    "    RETURNS\n",
    "        (Int32): the patient zero vertex number \n",
    "    \"\"\"\n",
    "    # TODO\n",
    "end"
   ]
  },
  {
   "cell_type": "markdown",
   "metadata": {},
   "source": [
    "<div style=\"width:75%;margin:0 auto;\">\n",
    "    \n",
    "<strong style=\"color:cornflowerblue\">Question 21 (code):</strong> Implement the <code>function distance</code> (respect the header and the specifications). You will need to use the function <code>dijkstra_shortest_paths</code> of the LighGraphs library, refer to the doc for more information. If there are multiple minimal vertices, then return the first one.\n",
    "    \n",
    "<span style=\"font-size:0.9em\">The corrector should be able to write <code>zero = distance(g,state,alpha)</code> with your code.</span>"
   ]
  },
  {
   "cell_type": "code",
   "execution_count": null,
   "metadata": {},
   "outputs": [],
   "source": [
    "function distance(g,state,alpha=1.)\n",
    "    \"\"\"Find patient zero by mean of the distance centrality method.\n",
    "    \n",
    "    PARAMS\n",
    "        g (LightGraph): graph representing the contact network\n",
    "        state (Array{Int32,1}): disease status of each vertex\n",
    "        alpha (Float64): curing rate\n",
    "    \n",
    "    RETURNS\n",
    "        (Int32): the patient zero vertex number \n",
    "    \"\"\"\n",
    "    # TODO\n",
    "end"
   ]
  },
  {
   "cell_type": "markdown",
   "metadata": {},
   "source": [
    "<div style=\"width:75%;margin:0 auto;\">\n",
    "\n",
    "<strong style=\"color:cadetblue\">Question 22 (written):</strong> Run the 3 following scripts using your functions <code>jordan</code> and <code>distance</code> and comment on the results.\n",
    "    \n",
    "The contact network is karat7 for 2 different patient zero and a $50\\times 50$ grid. The real patient zero (\"Z\"), your jordan (\"J\") and distance (\"D\") approximations are appearing in <code>colorant\"lightblue\"</code>.\n",
    "    \n",
    "<br>\n",
    "    \n",
    "<div style=\"background-color:#E7F1D1\"> <strong> Answer:</strong></div>"
   ]
  },
  {
   "cell_type": "code",
   "execution_count": null,
   "metadata": {},
   "outputs": [],
   "source": [
    "# Loading a snapshot of karat7\n",
    "@load \"karat7_Q22_1.jld2\" g state pat_zero alpha beta loc_x loc_y\n",
    "\n",
    "# Run the patient zero finding function\n",
    "cent_pat_zero = distance(g,state,alpha)\n",
    "jor_pat_zero = jordan(g,state)\n",
    "\n",
    "# Some display options \n",
    "labels = Array{String, 1}(undef,nv(g))\n",
    "for k=1:nv(g)\n",
    "    if state[k]==1\n",
    "        labels[k]=\"I\"\n",
    "    elseif state[k]==2\n",
    "        labels[k]=\"R\"\n",
    "    else\n",
    "        labels[k]=\"S\"\n",
    "    end\n",
    "end\n",
    "\n",
    "if cent_pat_zero==jor_pat_zero==pat_zero\n",
    "    labels[cent_pat_zero]=\"C+J+Z\"\n",
    "elseif cent_pat_zero==jor_pat_zero\n",
    "    labels[cent_pat_zero]=\"C+J\"\n",
    "    labels[pat_zero]=\"Z\"\n",
    "elseif cent_pat_zero==pat_zero\n",
    "    labels[cent_pat_zero]=\"C+Z\"\n",
    "    labels[jor_pat_zero]=\"J\"\n",
    "elseif jor_pat_zero==pat_zero\n",
    "    labels[jor_pat_zero]=\"J+Z\"\n",
    "    labels[cent_pat_zero]=\"C\"\n",
    "else\n",
    "    labels[cent_pat_zero]=\"C\"\n",
    "    labels[jor_pat_zero]=\"J\"\n",
    "    labels[pat_zero]=\"Z\"\n",
    "end\n",
    "\n",
    "nodecolor = [colorant\"lightseagreen\", colorant\"orange\", colorant\"purple\"]\n",
    "colors = nodecolor[state + ones(Int32,nv(g))]\n",
    "colors[pat_zero] = colorant\"lightblue\"\n",
    "colors[cent_pat_zero] = colorant\"lightblue\"\n",
    "colors[jor_pat_zero] = colorant\"lightblue\"\n",
    "\n",
    "# Display\n",
    "draw(PNG(\"karat7_Q22_1.png\", 20cm, 20cm), gplot(g,loc_x,loc_y,nodefillc=colors,nodelabel=labels))"
   ]
  },
  {
   "cell_type": "code",
   "execution_count": null,
   "metadata": {},
   "outputs": [],
   "source": [
    "# Loading a snapshot of karat7\n",
    "@load \"karat7_Q22_2.jld2\" g state pat_zero alpha beta loc_x loc_y\n",
    "\n",
    "# Run the patient zero finding function\n",
    "cent_pat_zero = distance(g,state,alpha)\n",
    "jor_pat_zero = jordan(g,state)\n",
    "\n",
    "# Some display options \n",
    "labels = Array{String, 1}(undef,nv(g))\n",
    "for k=1:nv(g)\n",
    "    if state[k]==1\n",
    "        labels[k]=\"I\"\n",
    "    elseif state[k]==2\n",
    "        labels[k]=\"R\"\n",
    "    else\n",
    "        labels[k]=\"S\"\n",
    "    end\n",
    "end\n",
    "\n",
    "if cent_pat_zero==jor_pat_zero==pat_zero\n",
    "    labels[cent_pat_zero]=\"C+J+Z\"\n",
    "elseif cent_pat_zero==jor_pat_zero\n",
    "    labels[cent_pat_zero]=\"C+J\"\n",
    "    labels[pat_zero]=\"Z\"\n",
    "elseif cent_pat_zero==pat_zero\n",
    "    labels[cent_pat_zero]=\"C+Z\"\n",
    "    labels[jor_pat_zero]=\"J\"\n",
    "elseif jor_pat_zero==pat_zero\n",
    "    labels[jor_pat_zero]=\"J+Z\"\n",
    "    labels[cent_pat_zero]=\"C\"\n",
    "else\n",
    "    labels[cent_pat_zero]=\"C\"\n",
    "    labels[jor_pat_zero]=\"J\"\n",
    "    labels[pat_zero]=\"Z\"\n",
    "end\n",
    "\n",
    "nodecolor = [colorant\"lightseagreen\", colorant\"orange\", colorant\"purple\"]\n",
    "colors = nodecolor[state + ones(Int32,nv(g))]\n",
    "colors[pat_zero] = colorant\"lightblue\"\n",
    "colors[cent_pat_zero] = colorant\"lightblue\"\n",
    "colors[jor_pat_zero] = colorant\"lightblue\"\n",
    "\n",
    "# Display\n",
    "draw(PNG(\"karat7_Q22_2.png\", 20cm, 20cm), gplot(g,loc_x,loc_y,nodefillc=colors,nodelabel=labels))"
   ]
  },
  {
   "cell_type": "code",
   "execution_count": null,
   "metadata": {},
   "outputs": [],
   "source": [
    "# Loading a snapshot of grid50\n",
    "@load \"grid50_Q22.jld2\" g state pat_zero alpha beta loc_x loc_y\n",
    "\n",
    "# Run the patient zero finding function\n",
    "cent_pat_zero = distance(g,state,alpha)\n",
    "jor_pat_zero = jordan(g,state)\n",
    "\n",
    "# Some display options \n",
    "labels = Array{String, 1}(undef,nv(g))\n",
    "for k=1:nv(g)\n",
    "    if state[k]==1\n",
    "        labels[k]=\"I\"\n",
    "    elseif state[k]==2\n",
    "        labels[k]=\"R\"\n",
    "    else\n",
    "        labels[k]=\"S\"\n",
    "    end\n",
    "end\n",
    "\n",
    "if cent_pat_zero==jor_pat_zero==pat_zero\n",
    "    labels[cent_pat_zero]=\"C+J+Z\"\n",
    "elseif cent_pat_zero==jor_pat_zero\n",
    "    labels[cent_pat_zero]=\"C+J\"\n",
    "    labels[pat_zero]=\"Z\"\n",
    "elseif cent_pat_zero==pat_zero\n",
    "    labels[cent_pat_zero]=\"C+Z\"\n",
    "    labels[jor_pat_zero]=\"J\"\n",
    "elseif jor_pat_zero==pat_zero\n",
    "    labels[jor_pat_zero]=\"J+Z\"\n",
    "    labels[cent_pat_zero]=\"C\"\n",
    "else\n",
    "    labels[cent_pat_zero]=\"C\"\n",
    "    labels[jor_pat_zero]=\"J\"\n",
    "    labels[pat_zero]=\"Z\"\n",
    "end\n",
    "\n",
    "nodecolor = [colorant\"lightseagreen\", colorant\"orange\", colorant\"purple\"]\n",
    "colors = nodecolor[state + ones(Int32,nv(g))]\n",
    "colors[pat_zero] = colorant\"lightblue\"\n",
    "colors[cent_pat_zero] = colorant\"lightblue\"\n",
    "colors[jor_pat_zero] = colorant\"lightblue\"\n",
    "\n",
    "# Display\n",
    "draw(PNG(\"grid50_Q22.png\", 100cm, 100cm), gplot(g,loc_x,loc_y,nodefillc=colors,nodelabel=labels))"
   ]
  }
 ],
 "metadata": {
  "kernelspec": {
   "display_name": "Julia 1.4.2",
   "language": "julia",
   "name": "julia-1.4"
  },
  "language_info": {
   "file_extension": ".jl",
   "mimetype": "application/julia",
   "name": "julia",
   "version": "1.4.2"
  }
 },
 "nbformat": 4,
 "nbformat_minor": 4
}
