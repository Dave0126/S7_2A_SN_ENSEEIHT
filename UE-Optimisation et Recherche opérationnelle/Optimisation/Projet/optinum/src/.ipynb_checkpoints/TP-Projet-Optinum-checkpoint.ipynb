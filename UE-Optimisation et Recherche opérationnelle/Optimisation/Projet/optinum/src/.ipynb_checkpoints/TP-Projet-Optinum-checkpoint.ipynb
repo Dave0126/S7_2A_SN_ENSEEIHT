{
 "cells": [
  {
   "cell_type": "markdown",
   "metadata": {},
   "source": [
    "<center>\n",
    "<h1> TP-Projet d'optimisation numérique </h1>\n",
    "<h1> Année 2020-2021 - 2e année département Sciences du Numérique </h1>\n",
    "<h1> Noms: DAI </h1>\n",
    "<h1> Prénoms: Guohao </h1>    \n",
    "</center>"
   ]
  },
  {
   "cell_type": "markdown",
   "metadata": {},
   "source": [
    "# Algorithme de Newton\n",
    "## Implémentation \n",
    " \n",
    "1. Coder l’algorithme de Newton local tel que décrit dans la section *Algorithme de Newton* (fichier `Algorithme_De_Newton.jl`)\n",
    "\n",
    "2. Tester l’algorithme sur les fonctions $f_{1}$ , $f_{2}$ avec les points initiaux $x_{011}$ , $x_{012}$ (pour $f_{1}$ ) et $x_{021}$ , $x_{022}$ , $x_{023}$ (pour $f_{2}$ ) donnés en Annexe A."
   ]
  },
  {
   "cell_type": "code",
   "execution_count": 1,
   "metadata": {},
   "outputs": [
    {
     "name": "stdout",
     "output_type": "stream",
     "text": [
      "\u001b[32m\u001b[1m      Status\u001b[22m\u001b[39m `~/.julia/environments/v1.6/Project.toml`\n",
      " \u001b[90m [336ed68f] \u001b[39mCSV v0.9.10\n",
      " \u001b[90m [a93c6f00] \u001b[39mDataFrames v1.2.2\n",
      " \u001b[90m [0c46a032] \u001b[39mDifferentialEquations v6.20.0\n",
      " \u001b[90m [7073ff75] \u001b[39mIJulia v1.23.2\n",
      " \u001b[90m [91a5bcdd] \u001b[39mPlots v1.23.6\n"
     ]
    }
   ],
   "source": [
    "using Pkg\n",
    "Pkg.status()"
   ]
  },
  {
   "cell_type": "code",
   "execution_count": 16,
   "metadata": {},
   "outputs": [
    {
     "name": "stdout",
     "output_type": "stream",
     "text": [
      "* Newton: Test of f0 *\n",
      "-------------------------------------------------------------------------\n",
      "\u001b[34m\u001b[1mRésultats de : Newton appliqué à f0 au point initial -1.5707963267948966:\u001b[22m\u001b[39m\n",
      "  * xsol = -1.5707963267948966\n",
      "  * f(xsol) = -1.0\n",
      "  * nb_iters = 0\n",
      "  * flag = 0\n",
      "  * sol_exacte : -1.5707963267948966\n",
      "-------------------------------------------------------------------------\n",
      "\u001b[34m\u001b[1mRésultats de : Newton appliqué à f0 au point initial -1.0707963267948966:\u001b[22m\u001b[39m\n",
      "  * xsol = -1.5707963267949088\n",
      "  * f(xsol) = -1.0\n",
      "  * nb_iters = 3\n",
      "  * flag = 0\n",
      "  * sol_exacte : -1.5707963267948966\n",
      "-------------------------------------------------------------------------\n",
      "\u001b[34m\u001b[1mRésultats de : Newton appliqué à f0 au point initial 1.5707963267948966:\u001b[22m\u001b[39m\n",
      "  * xsol = 1.5707963267948966\n",
      "  * f(xsol) = 1.0\n",
      "  * nb_iters = 0\n",
      "  * flag = 0\n",
      "  * sol_exacte : -1.5707963267948966\n",
      "\n",
      "\n",
      "* Newton: Test of f1 *\n",
      "-------------------------------------------------------------------------\n",
      "\u001b[34m\u001b[1mRésultats de : Newton appliqué à f1 au point initial [1, 0, 0]:\u001b[22m\u001b[39m\n",
      "  * xsol = [1.0, 1.0, 0.9999999999999999]\n",
      "  * f(xsol) = 1.232595164407831e-32\n",
      "  * nb_iters = 1\n",
      "  * flag = 0\n",
      "  * sol_exacte : [1, 1, 1]\n",
      "-------------------------------------------------------------------------\n",
      "\u001b[34m\u001b[1mRésultats de : Newton appliqué à f1 au point initial [10.0, 3.0, -2.2]:\u001b[22m\u001b[39m\n",
      "  * xsol = [1.0, 0.9999999999999996, 0.9999999999999987]\n",
      "  * f(xsol) = 7.296963373294359e-30\n",
      "  * nb_iters = 1\n",
      "  * flag = 0\n",
      "  * sol_exacte : [1, 1, 1]\n",
      "\n",
      "\n",
      "* Newton: Test of f2 *\n",
      "-------------------------------------------------------------------------\n",
      "\u001b[34m\u001b[1mRésultats de : Newton appliqué à f2 au point initial [-1.2, 1.0]:\u001b[22m\u001b[39m\n",
      "  * xsol = [0.9999999999999999, 0.9999999999814724]\n",
      "  * f(xsol) = 3.4326461875363225e-20\n",
      "  * nb_iters = 6\n",
      "  * flag = 0\n",
      "  * sol_exacte : [1, 1, 1]\n",
      "-------------------------------------------------------------------------\n",
      "\u001b[34m\u001b[1mRésultats de : Newton appliqué à f2 au point initial [10, 0]:\u001b[22m\u001b[39m\n",
      "  * xsol = [1.0, 1.0]\n",
      "  * f(xsol) = 0.0\n",
      "  * nb_iters = 5\n",
      "  * flag = 0\n",
      "  * sol_exacte : [1, 1, 1]\n"
     ]
    },
    {
     "ename": "LoadError",
     "evalue": "SingularException(2)",
     "output_type": "error",
     "traceback": [
      "SingularException(2)",
      "",
      "Stacktrace:",
      "  [1] checknonsingular",
      "    @ /Applications/Julia-1.7.app/Contents/Resources/julia/share/julia/stdlib/v1.7/LinearAlgebra/src/factorization.jl:19 [inlined]",
      "  [2] checknonsingular",
      "    @ /Applications/Julia-1.7.app/Contents/Resources/julia/share/julia/stdlib/v1.7/LinearAlgebra/src/factorization.jl:21 [inlined]",
      "  [3] #lu!#146",
      "    @ /Applications/Julia-1.7.app/Contents/Resources/julia/share/julia/stdlib/v1.7/LinearAlgebra/src/lu.jl:82 [inlined]",
      "  [4] #lu#153",
      "    @ /Applications/Julia-1.7.app/Contents/Resources/julia/share/julia/stdlib/v1.7/LinearAlgebra/src/lu.jl:279 [inlined]",
      "  [5] lu (repeats 2 times)",
      "    @ /Applications/Julia-1.7.app/Contents/Resources/julia/share/julia/stdlib/v1.7/LinearAlgebra/src/lu.jl:278 [inlined]",
      "  [6] \\(A::Matrix{Float64}, B::Vector{Float64})",
      "    @ LinearAlgebra /Applications/Julia-1.7.app/Contents/Resources/julia/share/julia/stdlib/v1.7/LinearAlgebra/src/generic.jl:1142",
      "  [7] Algorithme_De_Newton(f::typeof(f2), gradf::typeof(grad_f2), hessf::typeof(hess_f2), x0::Vector{Float64}, options::Vector{Any})",
      "    @ Main ~/Desktop/留学文件/ENSEEIHT/2021-2022/SN2/S7_2A_SN_ENSEELHT/UE-Optimisation et Recherche opérationnelle/Optimisation/Projet/optinum/src/Algorithme_De_Newton.jl:68",
      "  [8] top-level scope",
      "    @ In[16]:83",
      "  [9] eval",
      "    @ ./boot.jl:373 [inlined]",
      " [10] include_string(mapexpr::typeof(REPL.softscope), mod::Module, code::String, filename::String)",
      "    @ Base ./loading.jl:1196"
     ]
    }
   ],
   "source": [
    "#using Pkg; Pkg.add(\"LinearAlgebra\"); Pkg.add(\"Markdown\")\n",
    "# using Documenter\n",
    "using LinearAlgebra\n",
    "using Markdown                             # Pour que les docstrings en début des fonctions ne posent\n",
    "                                           # pas de soucis. Ces docstrings sont utiles pour générer \n",
    "                                           # la documentation sous GitHub\n",
    "include(\"Algorithme_De_Newton.jl\")\n",
    "\n",
    "# Affichage les sorties de l'algorithme des Régions de confiance\n",
    "function my_afficher_resultats(algo,nom_fct,point_init,xmin,fxmin,flag,sol_exacte,nbiters)\n",
    "\tprintln(\"-------------------------------------------------------------------------\")\n",
    "\tprintstyled(\"Résultats de : \",algo, \" appliqué à \",nom_fct, \" au point initial \", point_init, \":\\n\",bold=true,color=:blue)\n",
    "\tprintln(\"  * xsol = \",xmin)\n",
    "\tprintln(\"  * f(xsol) = \",fxmin)\n",
    "\tprintln(\"  * nb_iters = \",nbiters)\n",
    "\tprintln(\"  * flag = \",flag)\n",
    "\tprintln(\"  * sol_exacte : \", sol_exacte)\n",
    "end\n",
    "\n",
    "# Fonction f0\n",
    "# -----------\n",
    "f0(x) =  sin(x)\n",
    "# la gradient de la fonction f0\n",
    "grad_f0(x) = cos(x)\n",
    "# la hessienne de la fonction f0\n",
    "hess_f0(x) = -sin(x)\n",
    "sol_exacte = -pi/2\n",
    "options = []\n",
    "\n",
    "println(\"* Newton: Test of f0 *\")\n",
    "x0 = sol_exacte\n",
    "xmin,f_min,flag,nb_iters = Algorithme_De_Newton(f0,grad_f0,hess_f0,x0,options)\n",
    "my_afficher_resultats(\"Newton\",\"f0\",x0,xmin,f_min,flag,sol_exacte,nb_iters)\n",
    "x0 = -pi/2+0.5\n",
    "xmin,f_min,flag,nb_iters = Algorithme_De_Newton(f0,grad_f0,hess_f0,x0,options)\n",
    "my_afficher_resultats(\"Newton\",\"f0\",x0,xmin,f_min,flag,sol_exacte,nb_iters)\n",
    "x0 = pi/2\n",
    "xmin,f_min,flag,nb_iters = Algorithme_De_Newton(f0,grad_f0,hess_f0,x0,options)\n",
    "my_afficher_resultats(\"Newton\",\"f0\",x0,xmin,f_min,flag,sol_exacte,nb_iters)\n",
    "\n",
    "##### TODO : Fonction f1 and f2 according to Annexes\n",
    "\n",
    "# Fonction f1\n",
    "# -----------\n",
    "# function f1(x1, x2, x3) -> 2*(x1+x2+x3-3)^2 + (x1-x2)^2 + (x2-x3)^2\n",
    "f1(x) = 2 * (x[1] + x[2] + x[3] - 3) ^ 2 + (x[1] - x[2]) ^ 2 + ( x[2] - x[3]) ^ 2\n",
    "# la gradient de la fonction f1 ->  grad(2*(x1+x2+x3-3)^2 + (x1-x2)^2 + (x2-x3)^2)\n",
    "grad_f1(x) = [4*(x[1]+x[2]+x[3]-3) + 2*(x[1]-x[2]); 4*(x[1]+x[2]+x[3]-3) - 2*(x[1]-x[2])+2*(x[2]-x[3]); 4*(x[1]+x[2]+x[3]-3)-2*(x[2]-x[3])]\n",
    "# la hessienne de la fonction f1\n",
    "hess_f1(x) = [6 2 4; 2 8 2; 4 2 6]\n",
    "sol_exacte = [1,1,1]\n",
    "options = []\n",
    "\n",
    "println(\"\\n\\n* Newton: Test of f1 *\")\n",
    "x1_1 = [1; 0; 0]\n",
    "xmin,f_min,flag,nb_iters = Algorithme_De_Newton(f1,grad_f1,hess_f1,x1_1,options)\n",
    "my_afficher_resultats(\"Newton\",\"f1\",x1_1,xmin,f_min,flag,sol_exacte,nb_iters)\n",
    "x1_2 = [10; 3; -2.2]\n",
    "xmin,f_min,flag,nb_iters = Algorithme_De_Newton(f1,grad_f1,hess_f1,x1_2,options)\n",
    "my_afficher_resultats(\"Newton\",\"f1\",x1_2,xmin,f_min,flag,sol_exacte,nb_iters)\n",
    "\n",
    "\n",
    "# Fonction f2\n",
    "# -----------\n",
    "# function f2(x1, x2) -> 100*(x2-(x1^2))^2 + (1-x1)^2\n",
    "f2(x) = 100 * (x[2] - (x[1] ^ 2)) ^ 2 + (1 - x[1]) ^ 2\n",
    "# la gradient de la fonction f2\n",
    "grad_f2(x) = [-400*x[1]*(x[2]-x[1]^2)-2*(1-x[1]) ; 200*(x[2]-x[1]^2)]\n",
    "# la hessienne de la fonction f2\n",
    "hess_f2(x) = [1200*x[1]^2-400*x[2]+2 (-400*x[1]);\n",
    "                -400*x[1] 200]\n",
    "sol_exacte = [1,1,1]\n",
    "options = []\n",
    "\n",
    "println(\"\\n\\n* Newton: Test of f2 *\")\n",
    "x2_1 = [-1.2; 1]\n",
    "xmin,f_min,flag,nb_iters = Algorithme_De_Newton(f2,grad_f2,hess_f2,x2_1,options)\n",
    "my_afficher_resultats(\"Newton\",\"f2\",x2_1,xmin,f_min,flag,sol_exacte,nb_iters)\n",
    "x2_2 = [10; 0]\n",
    "xmin,f_min,flag,nb_iters = Algorithme_De_Newton(f2,grad_f2,hess_f2,x2_2,options)\n",
    "my_afficher_resultats(\"Newton\",\"f2\",x2_2,xmin,f_min,flag,sol_exacte,nb_iters)\n",
    "x2_3 = [0; ((1/200)+(1/(10^12)))]\n",
    "xmin,f_min,flag,nb_iters = Algorithme_De_Newton(f2,grad_f2,hess_f2,x2_3,options)\n",
    "my_afficher_resultats(\"Newton\",\"f2\",x2_3,xmin,f_min,flag,sol_exacte,nb_iters)\n"
   ]
  },
  {
   "cell_type": "markdown",
   "metadata": {},
   "source": [
    "## Interprétation \n",
    "\n",
    "Justifier\n",
    "\n",
    "1. les résultats obtenus pour l'exemple $f_0$ ci-dessus;\n",
    "\n",
    "2. que l’algorithme implémenté converge en une itération pour $f_{1}$;\n",
    "\n",
    "3. que l’algorithme puisse ne pas converger pour $f_{2}$ avec certains points initiaux."
   ]
  },
  {
   "cell_type": "markdown",
   "metadata": {},
   "source": [
    "## Vos réponses?\n",
    "\n",
    "1. In the first two tests of function $f_0 = sin (x)$, when the initial value is -1.5707963267948966, and the initial value is -1.0707963267948966, there is a minimum value, and the result also converges to the minimum value. Their minimum result is the same, which is -1. In the last test, when the initial value is 1.5707963267948966, we get the maximum value of the sine function, which is +1.\n",
    "\n",
    "2. Because it is equal to its second-order Taylor expansion, the minimum value can be obtained in a single iteration.\n",
    "\n",
    "3. As shown in the third test of $f_2 $, at some initial points of $f_2 $, Newton's algorithm may not converge. This is because approximating the extreme value of the function through the second-order Taylor expansion of $ f_2 $ will cause the function to lead to the minimum in the opposite direction. The resulting system may be irreversible.\n"
   ]
  },
  {
   "cell_type": "markdown",
   "metadata": {},
   "source": [
    "# Régions de confiance avec pas de cauchy \n",
    "\n",
    "## Implémentation \n",
    "\n",
    "1. Coder l'algorithme du pas de Cauchy d’un sous-problème de\n",
    "régions de confiance (fichier `Pas_De_Cauchy.jl`). Tester sur les quadratiques proposées en Annexe B.\n",
    "\n",
    "2. Coder l'algorithme de régions de confiance (fichier `Regions_De_Confiance.jl`). Tester sur les problèmes de l’Annexe A."
   ]
  },
  {
   "cell_type": "code",
   "execution_count": 33,
   "metadata": {},
   "outputs": [
    {
     "name": "stdout",
     "output_type": "stream",
     "text": [
      "\n",
      "* Pas de Cauchy: Test of Quadratique 1 *\n",
      "-------------------------------------------------------------------------\n",
      "* The approximate solution of Quadratique 1 is [0, 0]\n",
      "* The state of exit is 0\n",
      "\n",
      "\n",
      "* Pas de Cauchy: Test of Quadratique 2 *\n",
      "-------------------------------------------------------------------------\n",
      "* The approximate solution of Quadratique 2 is [-0.9230769230769234, -0.30769230769230776]\n",
      "* The state of exit is 1\n",
      "\n",
      "\n",
      "* Pas de Cauchy: Test of Quadratique 3 *\n",
      "-------------------------------------------------------------------------\n",
      "* The approximate solution of Quadratique 3 is [0.8944271909999159, -0.4472135954999579]\n",
      "* The state of exit is -1\n",
      "\n",
      "\n"
     ]
    }
   ],
   "source": [
    "# Vos tests\n",
    "##### TODO : Test of \"Pas de Cauchy\"\n",
    "include(\"Pas_De_Cauchy.jl\")\n",
    "\n",
    "# On considère des fonctions quadratiques de la forme q(s) = s'*g + 0.5*s'*H*s\n",
    "\n",
    "# Quadratique 1\n",
    "g1 = [0; 0]\n",
    "H1 = [7 0; 0 2]\n",
    "delta1 = 1\n",
    "solution1, etat1 = Pas_De_Cauchy(g1,H1,delta1)\n",
    "println(\"\\n* Pas de Cauchy: Test of Quadratique 1 *\")\n",
    "println(\"-------------------------------------------------------------------------\")\n",
    "println(\"* The approximate solution of Quadratique 1 is \", solution1)\n",
    "println(\"* The state of exit is \", etat1)\n",
    "\n",
    "\n",
    "# Quadratique 2\n",
    "g2 = [6; 2]\n",
    "H2 = [7 0; 0 2]\n",
    "delta2 = 1\n",
    "solution2, etat2 = Pas_De_Cauchy(g2,H2,delta2)\n",
    "println(\"\\n\\n* Pas de Cauchy: Test of Quadratique 2 *\")\n",
    "println(\"-------------------------------------------------------------------------\")\n",
    "println(\"* The approximate solution of Quadratique 2 is \", solution2)\n",
    "println(\"* The state of exit is \", etat2)\n",
    "\n",
    "\n",
    "# Quadratique 3\n",
    "g3 = [-2; 1]\n",
    "H3 = [-2 0; 0 10]\n",
    "delta3 = 1\n",
    "solution3, etat3 = Pas_De_Cauchy(g3,H3,delta3)\n",
    "println(\"\\n\\n* Pas de Cauchy: Test of Quadratique 3 *\")\n",
    "println(\"-------------------------------------------------------------------------\")\n",
    "println(\"* The approximate solution of Quadratique 3 is \", solution3)\n",
    "println(\"* The state of exit is \", etat3,\"\\n\\n\")"
   ]
  },
  {
   "cell_type": "markdown",
   "metadata": {},
   "source": [
    "## Interprétation \n",
    "\n",
    "1. Quelle relation lie la fonction test $f_1$ et son modèle de Taylor à l’ordre 2 ? Comparer alors les performances de Newton et RC-Pas de Cauchy sur cette fonction.\n",
    "\n",
    "2. Le rayon initial de la région de confiance est un paramètre important dans l’analyse\n",
    "de la performance de l’algorithme. Sur quel(s) autre(s) paramètre(s) peut-on jouer\n",
    "pour essayer d’améliorer cette performance ? Étudier l’influence d’au moins deux de\n",
    "ces paramètres."
   ]
  },
  {
   "cell_type": "markdown",
   "metadata": {},
   "source": [
    "## Vos réponses?\n"
   ]
  },
  {
   "cell_type": "markdown",
   "metadata": {},
   "source": [
    "# Régions de confiance avec gradient conjugué tronqué\n",
    "\n",
    "## Implémentation \n",
    "\n",
    "1. Implémenter l’algorithme du Gradient Conjugué Tronqué, en se basant sur le cours (fichier `Gradient_Conjugue_Tronque.jl`).\n",
    "On validera les résultats sur les fonctions de l’Annexe C.\n",
    "\n",
    "2. Intégrer finalement l’algorithme du Gradient Conjugué Tronqué dans le code de\n",
    "régions de confiance, et appliquer ce code pour résoudre les exemples proposés en\n",
    "Annexe A."
   ]
  },
  {
   "cell_type": "code",
   "execution_count": 54,
   "metadata": {
    "scrolled": true
   },
   "outputs": [
    {
     "name": "stdout",
     "output_type": "stream",
     "text": [
      "\n",
      "\u001b[34m\u001b[1m\u001b[4mSolution 1 : Implémenter l’algorithme du Gradient Conjugué Tronqué\u001b[24m\u001b[22m\u001b[39m\n",
      "\n",
      "* Gradient Conjugue Tronque: Test of Quadratique 4 *\n",
      "-------------------------------------------------------------------------\n",
      "* The approximate solution of Quadratique 4 is [0.0, 0.0]\n",
      "\n",
      "\n",
      "* Gradient Conjugue Tronque: Test of Quadratique 5 *\n",
      "-------------------------------------------------------------------------\n",
      "* The approximate solution of Quadratique 5 is [1.1782448197996298, -1.6160876042514951]\n",
      "\n",
      "\n",
      "* Gradient Conjugue Tronque: Test of Quadratique 6 *\n",
      "-------------------------------------------------------------------------\n",
      "* The approximate solution of Quadratique 6 is [-0.5, 0.0]\n",
      "\n",
      "\n",
      "\n",
      "\n",
      "\u001b[34m\u001b[1m\u001b[4mSolution 2 : L’algorithme du Gradient Conjugué Tronqué dans Regions De Confiance pour résoudre les exemples proposés en Annexe A.\u001b[24m\u001b[22m\u001b[39m\n",
      "-------------------------------------------------------------------------\n",
      "\u001b[34m\u001b[1mRésultats de : gct appliqué à f1 au point initial [1, 0, 0]:\u001b[22m\u001b[39m\n",
      "  * xsol = [1.0000000000000007, 1.0, 1.0]\n",
      "  * f(xsol) = 2.0214560696288428e-30\n",
      "  * nb_iters = 0\n",
      "  * flag = 0\n",
      "  * sol_exacte : [1, 1, 1]\n",
      "-------------------------------------------------------------------------\n",
      "\u001b[34m\u001b[1mRésultats de : gct appliqué à f1 au point initial [10.0, 3.0, -2.2]:\u001b[22m\u001b[39m\n",
      "  * xsol = [1.0, 1.0, 1.0]\n",
      "  * f(xsol) = 0.0\n",
      "  * nb_iters = 2\n",
      "  * flag = 0\n",
      "  * sol_exacte : [1, 1, 1]\n"
     ]
    }
   ],
   "source": [
    "# Vos tests\n",
    "include(\"Regions_De_Confiance.jl\")\n",
    "include(\"Pas_De_Cauchy.jl\")\n",
    "include(\"Gradient_Conjugue_Tronque.jl\")\n",
    "\n",
    "###### TODO: \n",
    "# 1. Implémenter l’algorithme du Gradient Conjugué Tronqué\n",
    "printstyled(\"\\nSolution 1 : Implémenter l’algorithme du Gradient Conjugué Tronqué\\n\", bold=true, color=:blue, underline=true)\n",
    "\n",
    "# Quadratique 4\n",
    "g4 = [0; 0]\n",
    "H4 = [-2 0; 0 10]\n",
    "options = []\n",
    "solution4 = Gradient_Conjugue_Tronque(g4,H4,options)\n",
    "println(\"\\n* Gradient Conjugue Tronque: Test of Quadratique 4 *\")\n",
    "println(\"-------------------------------------------------------------------------\")\n",
    "println(\"* The approximate solution of Quadratique 4 is \", solution4)\n",
    "\n",
    "# Quadratique 5\n",
    "g5 = [2; 3]\n",
    "H5 = [4 6; 6 5]\n",
    "solution5 = Gradient_Conjugue_Tronque(g5,H5,options)\n",
    "println(\"\\n\\n* Gradient Conjugue Tronque: Test of Quadratique 5 *\")\n",
    "println(\"-------------------------------------------------------------------------\")\n",
    "println(\"* The approximate solution of Quadratique 5 is \", solution5)\n",
    "\n",
    "# Quadratique 6\n",
    "g6 = [2; 0]\n",
    "H6 = [4 0; 0 -15]\n",
    "solution6 = Gradient_Conjugue_Tronque(g6,H6,options)\n",
    "println(\"\\n\\n* Gradient Conjugue Tronque: Test of Quadratique 6 *\")\n",
    "println(\"-------------------------------------------------------------------------\")\n",
    "println(\"* The approximate solution of Quadratique 6 is \", solution6, \"\\n\\n\\n\")\n",
    "\n",
    "\n"
   ]
  },
  {
   "cell_type": "code",
   "execution_count": 56,
   "metadata": {},
   "outputs": [
    {
     "name": "stdout",
     "output_type": "stream",
     "text": [
      "\n",
      "\u001b[34m\u001b[1m\u001b[4mSolution 2 : L’algorithme du Gradient Conjugué Tronqué dans Regions De Confiance pour résoudre les exemples proposés en Annexe A.\u001b[24m\u001b[22m\u001b[39m\n",
      "-------------------------------------------------------------------------\n",
      "\u001b[34m\u001b[1mRésultats de : gct appliqué à f1 au point initial [1, 0, 0]:\u001b[22m\u001b[39m\n",
      "  * xsol = [1.0000000000000007, 1.0, 1.0]\n",
      "  * f(xsol) = 2.0214560696288428e-30\n",
      "  * nb_iters = 0\n",
      "  * flag = 0\n",
      "  * sol_exacte : [1, 1, 1]\n",
      "-------------------------------------------------------------------------\n",
      "\u001b[34m\u001b[1mRésultats de : gct appliqué à f1 au point initial [10.0, 3.0, -2.2]:\u001b[22m\u001b[39m\n",
      "  * xsol = [1.0, 1.0, 1.0]\n",
      "  * f(xsol) = 0.0\n",
      "  * nb_iters = 2\n",
      "  * flag = 0\n",
      "  * sol_exacte : [1, 1, 1]\n"
     ]
    }
   ],
   "source": [
    "###### TODO: \n",
    "# 2. L’algorithme du Gradient Conjugué Tronqué dans Regions De Confiance pour résoudre les exemples proposés en Annexe A.\n",
    "printstyled(\"\\nSolution 2 : L’algorithme du Gradient Conjugué Tronqué dans Regions De Confiance pour résoudre les exemples proposés en Annexe A.\\n\", bold=true, color=:blue, underline=true)\n",
    "\n",
    "# Fonction f1\n",
    "# -----------\n",
    "sol_exacte = [1,1,1]\n",
    "\n",
    "x1_1 = [1; 0; 0]\n",
    "xmin,f_min,flag,nb_iters = Regions_De_Confiance(\"gct\",f1,grad_f1,hess_f1,x1_1,options)\n",
    "my_afficher_resultats(\"gct\",\"f1\",x1_1,xmin,f_min,flag,sol_exacte,nb_iters)\n",
    "\n",
    "x1_2 = [10; 3; -2.2]\n",
    "xmin,f_min,flag,nb_iters = Regions_De_Confiance(\"gct\",f1,grad_f1,hess_f1,x1_2,options)\n",
    "my_afficher_resultats(\"gct\",\"f1\",x1_2,xmin,f_min,flag,sol_exacte,nb_iters)"
   ]
  },
  {
   "cell_type": "markdown",
   "metadata": {},
   "source": [
    "## Interprétation  \n",
    "\n",
    "1. Comparer la décroissance obtenue avec celle du pas de Cauchy, en retournant, dans\n",
    "un premier temps le dernier itéré admissible à courbure positive (c’est à dire, que si\n",
    "l’une ou l’autre des deux conditions (b) ou (d) sont rencontrées dans l’algorithme 3,\n",
    "alors on ne calcule pas ``σ_{j}`` et on retourne le dernier itéré ``s_{j}`` directement).\n",
    "\n",
    "2. Comparer la décroissance obtenue avec celle du pas de Cauchy, en imposant la sortie\n",
    "dans l’algorithme 3 au bout d’une itération seulement. Que remarquez vous ?\n",
    "\n",
    "3. Comparer la décroissance obtenue avec celle du pas de Cauchy dans le cas général.\n",
    "\n",
    "4. Quels sont les avantages et inconvénients des deux approches ?"
   ]
  },
  {
   "cell_type": "markdown",
   "metadata": {},
   "source": [
    "## Vos réponses?\n"
   ]
  },
  {
   "cell_type": "markdown",
   "metadata": {},
   "source": [
    "# Lagrangien augmenté\n",
    "\n",
    "## Implémentation\n",
    "1.Choisir des critères d’arrêt pour la convergence de l'algorithme.\n",
    "\n",
    "2.Implémenter l'algorithme du lagrangien augmenté, en utilisant les différentes méthodes\n",
    "qui ont été vues en première partie pour la résolution de la suite de problémes sans\n",
    "contraintes (fichier `Lagrangien_Augmente.jl`)\n",
    " \n",
    "3.Tester les différentes variantes sur les problèmes en Annexe D.\n",
    " "
   ]
  },
  {
   "cell_type": "code",
   "execution_count": 31,
   "metadata": {},
   "outputs": [],
   "source": [
    "# Vos tests\n",
    "###### TODO: Test of Lagrangien augmenté\n",
    "\n",
    "\n"
   ]
  },
  {
   "cell_type": "markdown",
   "metadata": {},
   "source": [
    "## Interprétation\n",
    " 1.Commenter les résultats obtenus, en étudiant notamment les valeurs de $\\lambda_k$ et $\\mu_k$.\n",
    " \n",
    " 2.Étudier l'influence du paramètre $\\tau$ dans la performance de l'algorithme.\n",
    " \n",
    " 3.**Supplémentaire** : \n",
    "      Que proposez-vous comme méthode pour la résolution des problèmes avec\n",
    "      des contraintes à la fois d'égalité et d'inégalité ? Implémenter (si le temps le permet)\n",
    "      ce nouvel algorithme\n"
   ]
  },
  {
   "cell_type": "markdown",
   "metadata": {},
   "source": [
    "## Vos réponses?\n"
   ]
  }
 ],
 "metadata": {
  "kernelspec": {
   "display_name": "Julia 1.7.0-rc2",
   "language": "julia",
   "name": "julia-1.7"
  },
  "language_info": {
   "file_extension": ".jl",
   "mimetype": "application/julia",
   "name": "julia",
   "version": "1.7.0"
  }
 },
 "nbformat": 4,
 "nbformat_minor": 4
}
